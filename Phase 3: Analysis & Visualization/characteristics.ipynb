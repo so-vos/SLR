{
 "cells": [
  {
   "cell_type": "markdown",
   "id": "active-belly",
   "metadata": {},
   "source": [
    "# import"
   ]
  },
  {
   "cell_type": "code",
   "execution_count": 1,
   "id": "alternate-birth",
   "metadata": {},
   "outputs": [],
   "source": [
    "import pandas as pd\n",
    "from pandas import DataFrame\n",
    "import seaborn as sns\n",
    "import matplotlib.pyplot as plt"
   ]
  },
  {
   "cell_type": "markdown",
   "id": "executed-alfred",
   "metadata": {},
   "source": [
    "# data"
   ]
  },
  {
   "cell_type": "code",
   "execution_count": 2,
   "id": "metric-affairs",
   "metadata": {},
   "outputs": [],
   "source": [
    "data = pd.read_csv('rejected.csv', index_col=0)\n",
    "data = data.applymap(str) # change all values to string"
   ]
  },
  {
   "cell_type": "markdown",
   "id": "manual-produce",
   "metadata": {},
   "source": [
    "# methods"
   ]
  },
  {
   "cell_type": "markdown",
   "id": "cognitive-brief",
   "metadata": {},
   "source": [
    "## make histogram"
   ]
  },
  {
   "cell_type": "code",
   "execution_count": 3,
   "id": "finnish-backup",
   "metadata": {},
   "outputs": [],
   "source": [
    "def make_hist(scs_dict, name, scale):   \n",
    "\n",
    "    # make dataframe\n",
    "    df = pd.DataFrame(list(scs_dict.items()))\n",
    "    df.columns = [name,'Frequency']\n",
    "    \n",
    "    # sort frequency descending\n",
    "    df = df.sort_values(['Frequency'],ascending=False).reset_index(drop=True)\n",
    "    \n",
    "    # plot\n",
    "    ax = sns.barplot(x=name, y=\"Frequency\", data=df, color=\"#636363\")\n",
    "    \n",
    "    for index, row in df.iterrows():\n",
    "        ax.text(row.name,row.Frequency, round(row.Frequency,2), color='black', ha=\"center\")\n",
    "    \n",
    "    ax.set(ylim=(0, scale))\n",
    "    #plt.xticks(rotation=90) # rotate label names on x-axis\n",
    "    plt.xlabel(\"\") # delete x label\n",
    "    plt.savefig(\"characteristics/\" + name +\".png\",bbox_inches='tight')"
   ]
  },
  {
   "cell_type": "markdown",
   "id": "employed-event",
   "metadata": {},
   "source": [
    "# create create dict of frequencies"
   ]
  },
  {
   "cell_type": "code",
   "execution_count": 4,
   "id": "toxic-aquatic",
   "metadata": {},
   "outputs": [],
   "source": [
    "def create_dict1(scs, key, df):\n",
    "    \n",
    "    scs_dict = {} # scs = selection criteria\n",
    "\n",
    "    for sc in scs:\n",
    "        freq = df[[sc]].eq(key).sum() # count frequency\n",
    "        scs_dict[sc] = freq.get(key = sc) # place frequency in dict\n",
    "    \n",
    "    print(scs_dict)\n",
    "    return scs_dict"
   ]
  },
  {
   "cell_type": "code",
   "execution_count": 5,
   "id": "permanent-driver",
   "metadata": {},
   "outputs": [],
   "source": [
    "def create_dict2(types, column_name, df):\n",
    "    \n",
    "    dict_out = {}\n",
    "\n",
    "    for t in types:\n",
    "        freq = df[[column_name]].eq(t).sum() # count frequency\n",
    "        dict_out[t] = freq.get(key = column_name) # place frequency in dict\n",
    "\n",
    "    print(dict_out)\n",
    "    return dict_out \n"
   ]
  },
  {
   "cell_type": "markdown",
   "id": "activated-volunteer",
   "metadata": {},
   "source": [
    "# rejected studies"
   ]
  },
  {
   "cell_type": "code",
   "execution_count": 6,
   "id": "vocal-medium",
   "metadata": {},
   "outputs": [
    {
     "name": "stdout",
     "output_type": "stream",
     "text": [
      "426\n"
     ]
    }
   ],
   "source": [
    "rejected = data[data[\"Primary Study\"] != \"Yes\"]\n",
    "scale = len(rejected.index)\n",
    "print(scale)"
   ]
  },
  {
   "cell_type": "code",
   "execution_count": 7,
   "id": "north-discount",
   "metadata": {},
   "outputs": [
    {
     "name": "stdout",
     "output_type": "stream",
     "text": [
      "{'IC1': 52, 'IC2': 8, 'IC3': 6, 'IC4': 15, 'IC5': 1}\n"
     ]
    },
    {
     "data": {
      "image/png": "[encoded data removed]",
      "text/plain": [
       "<Figure size 432x288 with 1 Axes>"
      ]
     },
     "metadata": {
      "needs_background": "light"
     },
     "output_type": "display_data"
    }
   ],
   "source": [
    "# inclusion criteria\n",
    "\n",
    "ics = ['IC1', 'IC2', 'IC3', 'IC4', 'IC5']\n",
    "ics_dict = create_dict1(ics, \"0.0\", rejected)\n",
    "make_hist(ics_dict, \"Studies rejected based on Inclusion Criteria\", scale)"
   ]
  },
  {
   "cell_type": "code",
   "execution_count": 8,
   "id": "fifteen-chapter",
   "metadata": {},
   "outputs": [
    {
     "name": "stdout",
     "output_type": "stream",
     "text": [
      "{'EC1': 61, 'EC2': 110, 'EC3': 69, 'EC4': 11, 'EC5': 20, 'EC6': 39, 'EC7': 53, 'EC8': 11, 'EC9': 15}\n"
     ]
    },
    {
     "data": {
      "image/png": "[encoded data removed]",
      "text/plain": [
       "<Figure size 432x288 with 1 Axes>"
      ]
     },
     "metadata": {
      "needs_background": "light"
     },
     "output_type": "display_data"
    }
   ],
   "source": [
    "# exclusion criteria\n",
    "\n",
    "ecs = ['EC1', 'EC2', 'EC3', 'EC4', 'EC5', 'EC6', 'EC7', 'EC8', 'EC9']\n",
    "ecs_dict = create_dict1(ecs, \"1.0\", rejected)\n",
    "make_hist(ecs_dict, \"Studies rejected based on Exclusion Criteria\", scale)"
   ]
  },
  {
   "cell_type": "markdown",
   "id": "confident-burlington",
   "metadata": {},
   "source": [
    "# selected studies"
   ]
  },
  {
   "cell_type": "code",
   "execution_count": 9,
   "id": "undefined-drill",
   "metadata": {},
   "outputs": [
    {
     "name": "stdout",
     "output_type": "stream",
     "text": [
      "224\n"
     ]
    }
   ],
   "source": [
    "selected = pd.read_csv('selected.csv', index_col=0)\n",
    "selected = selected.applymap(str) # change all values to string\n",
    "scale = len(selected.index)\n",
    "print(scale)"
   ]
  },
  {
   "cell_type": "code",
   "execution_count": 10,
   "id": "described-nothing",
   "metadata": {},
   "outputs": [
    {
     "name": "stdout",
     "output_type": "stream",
     "text": [
      "{'C': 78, 'J': 145, 'W': 1}\n"
     ]
    },
    {
     "data": {
      "image/png": "[encoded data removed]",
      "text/plain": [
       "<Figure size 432x288 with 1 Axes>"
      ]
     },
     "metadata": {
      "needs_background": "light"
     },
     "output_type": "display_data"
    }
   ],
   "source": [
    "# venue type\n",
    "\n",
    "venue_types = [\"C\", \"J\", \"W\"]\n",
    "column_name = \"Venue Type\"\n",
    "vt_dict = create_dict2(venue_types, column_name, selected)\n",
    "make_hist(vt_dict, \"Venue type\", scale)"
   ]
  },
  {
   "cell_type": "code",
   "execution_count": 11,
   "id": "brutal-resident",
   "metadata": {},
   "outputs": [
    {
     "name": "stdout",
     "output_type": "stream",
     "text": [
      "{'2018': 72, '2019': 95, '2020': 55, '2021': 2}\n"
     ]
    },
    {
     "data": {
      "image/png": "[encoded data removed]",
      "text/plain": [
       "<Figure size 432x288 with 1 Axes>"
      ]
     },
     "metadata": {
      "needs_background": "light"
     },
     "output_type": "display_data"
    }
   ],
   "source": [
    "# year\n",
    "\n",
    "years = [\"2018\", \"2019\", \"2020\", \"2021\"]\n",
    "column_name = \"Year\"\n",
    "year_dict = create_dict2(years, column_name, selected)\n",
    "make_hist(year_dict, \"Publication year\", scale)"
   ]
  },
  {
   "cell_type": "code",
   "execution_count": 12,
   "id": "encouraging-hurricane",
   "metadata": {},
   "outputs": [
    {
     "data": {
      "image/png": "[encoded data removed]",
      "text/plain": [
       "<Figure size 432x288 with 1 Axes>"
      ]
     },
     "metadata": {
      "needs_background": "light"
     },
     "output_type": "display_data"
    }
   ],
   "source": [
    "# venue\n",
    "\n",
    "venues = [\"ACM\", \"IEEE Xplore\", \"Elsevier\", \"Springer\", \"MDPI\"]\n",
    "column_name = \"Venue Acronym\"\n",
    "\n",
    "dict_out = {}\n",
    "counter = 0 # to count the total number of studies from the venues in the specified list\n",
    "\n",
    "for venue in venues:\n",
    "    freq = selected[[column_name]].eq(venue).sum() # count frequency\n",
    "    freq = freq.get(key = column_name) # get int instead of series\n",
    "    counter += freq\n",
    "    dict_out[venue] = freq  # place frequency in dict\n",
    "    \n",
    "    \n",
    "# add others to dict\n",
    "dict_out[\"Other\"] = scale - counter\n",
    "\n",
    "make_hist(dict_out, \"Venue\", scale)"
   ]
  }
 ],
 "metadata": {
  "kernelspec": {
   "display_name": "Python 3",
   "language": "python",
   "name": "python3"
  },
  "language_info": {
   "codemirror_mode": {
    "name": "ipython",
    "version": 3
   },
   "file_extension": ".py",
   "mimetype": "text/x-python",
   "name": "python",
   "nbconvert_exporter": "python",
   "pygments_lexer": "ipython3",
   "version": "3.8.5"
  }
 },
 "nbformat": 4,
 "nbformat_minor": 5
}
