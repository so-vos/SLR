{
 "cells": [
  {
   "cell_type": "markdown",
   "metadata": {},
   "source": [
    "# import packages"
   ]
  },
  {
   "cell_type": "code",
   "execution_count": 1,
   "metadata": {},
   "outputs": [],
   "source": [
    "import pandas as pd\n",
    "from pandas import DataFrame\n",
    "import seaborn as sns\n",
    "import matplotlib.pyplot as plt"
   ]
  },
  {
   "cell_type": "markdown",
   "metadata": {},
   "source": [
    "# read data"
   ]
  },
  {
   "cell_type": "code",
   "execution_count": 2,
   "metadata": {},
   "outputs": [],
   "source": [
    "data = pd.read_csv('data.csv', index_col=0)\n",
    "data = data.applymap(str) # change all values to string"
   ]
  },
  {
   "cell_type": "markdown",
   "metadata": {},
   "source": [
    "# methods"
   ]
  },
  {
   "cell_type": "markdown",
   "metadata": {},
   "source": [
    "## prepare labels"
   ]
  },
  {
   "cell_type": "code",
   "execution_count": 3,
   "metadata": {},
   "outputs": [],
   "source": [
    "# takes as input a dataframe and the specific category of labels\n",
    "# removes the white space, igonores empty labels, and split multiple labels that are in one cell\n",
    "# returns a dataframe and list of all labels, and the total number of labels in this category\n",
    "\n",
    "def prepare_labels(df_input, category):\n",
    "\n",
    "    list_labels = []\n",
    "\n",
    "    for label in df_input[category]:\n",
    "        label = label.replace(\" \", \"\") # remove whitespace\n",
    "        if label == 'nan': # ignore empty labels\n",
    "            continue\n",
    "        elif ',' in label: # split labels seperated by comma's\n",
    "            chunks = label.split(',')\n",
    "            for chunk in chunks:\n",
    "                list_labels.append(chunk)\n",
    "        else:\n",
    "            list_labels.append(label)\n",
    "            \n",
    "    n_labels = len(list_labels)\n",
    "    df_labels = pd.DataFrame(list_labels, columns=[category])\n",
    "     \n",
    "    return df_labels, list_labels, n_labels"
   ]
  },
  {
   "cell_type": "markdown",
   "metadata": {},
   "source": [
    "## make histogram"
   ]
  },
  {
   "cell_type": "code",
   "execution_count": 4,
   "metadata": {},
   "outputs": [],
   "source": [
    "# takes as input a dictionary (labels + frequency) and the category name\n",
    "# then a histogram is constructed and saved as a png\n",
    "\n",
    "def make_hist(dict_labels, category_name):   \n",
    "\n",
    "    # make dataframe\n",
    "    df_labels = pd.DataFrame(list(dict_labels.items()))\n",
    "    df_labels.columns = [category_name,'Frequency']\n",
    "    \n",
    "    # sort frequency descending\n",
    "    df_labels = df_labels.sort_values(['Frequency'],ascending=False).reset_index(drop=True)\n",
    "    \n",
    "    # rotate label names on x-axis\n",
    "    plt.xticks(rotation=90)\n",
    "    \n",
    "    # plot\n",
    "    ax = sns.barplot(x=category_name, y=\"Frequency\", data=df_labels, color=\"#636363\")\n",
    "    plt.ylim(0, 224)\n",
    "    plt.savefig(\"figures/\" + category_name +\".png\",bbox_inches='tight')"
   ]
  },
  {
   "cell_type": "markdown",
   "metadata": {},
   "source": [
    "## plot all categories"
   ]
  },
  {
   "cell_type": "code",
   "execution_count": 5,
   "metadata": {},
   "outputs": [],
   "source": [
    "# prepares the data and plots the histogram for each category of a dataframe\n",
    "\n",
    "def plot_all(df_input, df_name):\n",
    "    \n",
    "    ### GOAL\n",
    "\n",
    "    # prepare data\n",
    "    category = 'goal'\n",
    "    df_labels, list_labels, n_labels = prepare_labels(df_input, category)\n",
    "    # count frequencies\n",
    "    dict_labels = ({'Reduce energy':list_labels.count('reduce_energy'), 'Monitor':list_labels.count('monitor'), 'Increase EE':list_labels.count('increase_EE'), 'Reduce costs':list_labels.count('reduce_cost'), 'Renewable':list_labels.count('optimize_renewable')})\n",
    "    # plot\n",
    "    category_name = df_name + \": Energy related goal\"  \n",
    "    make_hist(dict_labels, category_name)\n",
    "\n",
    "    ### STRATEGY\n",
    "\n",
    "    # prepare data\n",
    "    category = 'strategy'\n",
    "    df_labels, list_labels, n_labels = prepare_labels(df_input, category)\n",
    "    # count frequencies\n",
    "    dict_labels = ({'VM consolidation':list_labels.count('VM_consolidation'), 'Resource':list_labels.count('resource_management'), 'Predict':list_labels.count('predict'), 'Model':list_labels.count('model'), 'VM placement':list_labels.count('VM_placement'), 'VM selection':list_labels.count('VM_selection'), 'Network':list_labels.count('network_optimization'), 'VM migration':list_labels.count('VM_migration'), 'Measure':list_labels.count('measure'), 'Container':list_labels.count('containerization'), 'Other':list_labels.count('other')})\n",
    "    # plot\n",
    "    category_name = df_name + \": Strategy type\"\n",
    "    make_hist(dict_labels, category_name)\n",
    "\n",
    "    ### ALGORITMS\n",
    "\n",
    "    # prepare data\n",
    "    category = 'algorithms'\n",
    "    df_labels, list_labels, n_labels = prepare_labels(df_input, category)\n",
    "    # remove VM and container from components\n",
    "    df_labels = df_labels[df_labels.algorithms != \"round_robin\"]\n",
    "    # count frequencies\n",
    "    dict_labels = ({'Nature':list_labels.count('nature'), 'ML':list_labels.count('ML'), 'Fit':list_labels.count('bin'), 'LP':list_labels.count('LP'), 'Other':list_labels.count('other'), 'GP':list_labels.count('GP'), 'Fuzzy':list_labels.count('fuzzy'), 'DVFS':list_labels.count('DVFS')})\n",
    "    # plot\n",
    "    category_name = df_name + \": Algorithms and techniques\"\n",
    "    make_hist(dict_labels, category_name)\n",
    "\n",
    "    ### SOFTWARE-DRIVEN\n",
    "\n",
    "    # prepare data\n",
    "    category = 'software-driven'\n",
    "    df_labels, list_labels, n_labels = prepare_labels(df_input, category)\n",
    "    # count frequencies\n",
    "    dict_labels = ({'Completely':list_labels.count('completely_consists_of'), 'Depends':list_labels.count('depends_on'), 'Partly':list_labels.count('partly_consists_of')})\n",
    "    # plot\n",
    "    category_name = df_name + \": Software-driven\" \n",
    "    make_hist(dict_labels, category_name)\n",
    "\n",
    "    ### ENERGY METRICS\n",
    "\n",
    "    # prepare data\n",
    "    category = 'energy_metrics'\n",
    "    df_labels, list_labels, n_labels = prepare_labels(df_input, category)\n",
    "    # count frequencies\n",
    "    dict_labels = ({'Power consumption':list_labels.count('power_cons'), 'Energy consumption':list_labels.count('energy_cons'), 'Renewable':list_labels.count('renewable'), 'Energy efficiency':list_labels.count('EE'), 'Energy & SLA':list_labels.count('energy_SLA'), 'Supporting & ICT':list_labels.count('supp_ICT'), 'Other':list_labels.count('other')})\n",
    "    # plot\n",
    "    category_name = df_name + \": Energy related metrics\"  \n",
    "    make_hist(dict_labels, category_name)\n",
    "\n",
    "    # OTHER METRICS\n",
    "\n",
    "    # prepare data\n",
    "    category = 'other_metrics'\n",
    "    df_labels, list_labels, n_labels = prepare_labels(df_input, category)\n",
    "    # count frequencies\n",
    "    dict_labels = ({'Resource':list_labels.count('resource'), 'VM':list_labels.count('VM'), 'Time':list_labels.count('time'), 'Cost':list_labels.count('cost'), 'Network':list_labels.count('network'), 'SLA':list_labels.count('SLA'), 'Algorithm':list_labels.count('algorithm'), 'Other':list_labels.count('other'), 'PM':list_labels.count('PM'), 'Workload':list_labels.count('workload'), 'Supporting':list_labels.count('support'), 'Footprint':list_labels.count('footprint')})\n",
    "    # plot\n",
    "    category_name = df_name + \": Other metrics\" \n",
    "    make_hist(dict_labels, category_name)\n",
    "\n",
    "    ### EVALUATION\n",
    "\n",
    "    # prepare data\n",
    "    category = 'evaluation'\n",
    "    df_labels, list_labels, n_labels = prepare_labels(df_input, category)\n",
    "    # count frequencies\n",
    "    dict_labels = ({'Other':list_labels.count('other'), 'Empirical':list_labels.count('empirical'), 'Simulated':list_labels.count('simulated'), 'Theoretical':list_labels.count('theoretical')})\n",
    "    # plot\n",
    "    category_name = df_name + \": Evaluation\" \n",
    "    make_hist(dict_labels, category_name)\n",
    "\n",
    "    # DC COMPONENT\n",
    "\n",
    "    # prepare data\n",
    "    category = 'component'\n",
    "    df_labels, list_labels, n_labels = prepare_labels(df_input, category)\n",
    "    # remove VM and container from components\n",
    "    df_labels = df_labels[df_labels.component != \"VM\"]\n",
    "    df_labels = df_labels[df_labels.component != \"container\"]\n",
    "    # count frequencies\n",
    "    dict_labels = ({'Server':list_labels.count('server'), 'CPU':list_labels.count('CPU'), 'Storage':list_labels.count('storage'), 'Memory':list_labels.count('memory'), 'DC':list_labels.count('DC'), 'Network':list_labels.count('network')})\n",
    "    # plot\n",
    "    category_name = df_name + \": Data center component\"\n",
    "    make_hist(dict_labels, category_name)\n",
    "\n",
    "    ### DC TYPE    \n",
    "\n",
    "    # prepare data\n",
    "    category = 'dc_type'\n",
    "    df_labels, list_labels, n_labels = prepare_labels(df_input, category)\n",
    "    # count frequencies\n",
    "    dict_labels = ({'Cloud':list_labels.count('cloud'), 'Geo-distributed':list_labels.count('geo-distributed'), 'Renewable':list_labels.count('renewable'), 'Heterogeneous':list_labels.count('heterogeneous'), 'Large-scale':list_labels.count('large'), 'Homogeneous':list_labels.count('homogeneous'), 'Other':list_labels.count('other'), 'Small-scale':list_labels.count('small'), 'Medium-scale':list_labels.count('medium'), 'Virtual':list_labels.count('vDC')})\n",
    "    # plot\n",
    "    category_name = df_name + \": Data center type\"\n",
    "    make_hist(dict_labels, category_name)"
   ]
  },
  {
   "cell_type": "markdown",
   "metadata": {},
   "source": [
    "# make plots for all data"
   ]
  },
  {
   "cell_type": "code",
   "execution_count": 6,
   "metadata": {},
   "outputs": [
    {
     "data": {
      "image/png": "[encoded data removed]",
      "text/plain": [
       "<Figure size 432x288 with 1 Axes>"
      ]
     },
     "metadata": {
      "needs_background": "light"
     },
     "output_type": "display_data"
    }
   ],
   "source": [
    "plot_all(data, \"All data\")"
   ]
  },
  {
   "cell_type": "markdown",
   "metadata": {},
   "source": [
    "# merged strategies"
   ]
  },
  {
   "cell_type": "code",
   "execution_count": 7,
   "metadata": {},
   "outputs": [
    {
     "data": {
      "image/png": "[encoded data removed]",
      "text/plain": [
       "<Figure size 432x288 with 1 Axes>"
      ]
     },
     "metadata": {
      "needs_background": "light"
     },
     "output_type": "display_data"
    }
   ],
   "source": [
    "# prepare data\n",
    "category = 'strategy'\n",
    "df_labels, list_labels, n_labels = prepare_labels(data,category)\n",
    "# count frequencies\n",
    "dict_labels = ({'VM consolidation':list_labels.count('VM_consolidation'), 'Resource':list_labels.count('resource_management'), 'Monitor':list_labels.count('predict')+list_labels.count('model')+list_labels.count('measure'), 'Network':list_labels.count('network_optimization'), 'Container':list_labels.count('containerization')})\n",
    "# plot\n",
    "category_name = \"All data: Merged strategy type\" \n",
    "make_hist(dict_labels, category_name)"
   ]
  },
  {
   "cell_type": "markdown",
   "metadata": {},
   "source": [
    "# make plots for all merged strategy types"
   ]
  },
  {
   "cell_type": "code",
   "execution_count": 8,
   "metadata": {},
   "outputs": [
    {
     "data": {
      "image/png": "[encoded data removed]",
      "text/plain": [
       "<Figure size 432x288 with 1 Axes>"
      ]
     },
     "metadata": {
      "needs_background": "light"
     },
     "output_type": "display_data"
    }
   ],
   "source": [
    "# VM CONSOLIDATION\n",
    "df_vm = data[data['strategy'].str.contains(\"VM_consolidation\")]\n",
    "plot_all(df_vm, \"Strategy = VM consolidation\")\n",
    "\n",
    "# RESOURCE MANAGEMENT\n",
    "df_resource = data[data['strategy'].str.contains(\"resource_management\")]\n",
    "plot_all(df_resource, \"Strategy = Resource management\")\n",
    "\n",
    "# MONITOR\n",
    "# merge predict, model and measure\n",
    "monitor_labels = [\"model\",\"predict\",\"measure\"]\n",
    "pattern = '|'.join(r\"\\b{}\\b\".format(x) for x in monitor_labels)\n",
    "df_monitor = data[data['strategy'].str.contains(pattern)]\n",
    "plot_all(df_monitor, \"Strategy = Monitor\")\n",
    "\n",
    "# NETWORK OPTIMIZATION\n",
    "df_network = data[data['strategy'].str.contains(\"network_optimization\")]\n",
    "plot_all(df_network, \"Strategy = Network optimization\")\n",
    "\n",
    "# CONTAINER CONSOLIDATION\n",
    "df_container = data[data['strategy'].str.contains(\"containerization\")]\n",
    "plot_all(df_container, \"Strategy = Container consolidation\")"
   ]
  }
 ],
 "metadata": {
  "kernelspec": {
   "display_name": "Python 3",
   "language": "python",
   "name": "python3"
  },
  "language_info": {
   "codemirror_mode": {
    "name": "ipython",
    "version": 3
   },
   "file_extension": ".py",
   "mimetype": "text/x-python",
   "name": "python",
   "nbconvert_exporter": "python",
   "pygments_lexer": "ipython3",
   "version": "3.8.5"
  }
 },
 "nbformat": 4,
 "nbformat_minor": 2
}
